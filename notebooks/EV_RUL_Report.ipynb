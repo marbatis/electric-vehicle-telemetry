{
 "cells": [
  {
   "cell_type": "markdown",
   "id": "b3e40817",
   "metadata": {},
   "source": [
    "\n",
    "# EV Battery Remaining Useful Life (RUL) — Project Report\n",
    "\n",
    "**Abstract.** We predict *Remaining Useful Life (RUL)* of EV cells as **diagnostic steps remaining** to the 80% End-of-Life (EOL) threshold using diagnostic capacity tests from the Onori dataset. The pipeline is simple and interpretable: we compute labels per cell, engineer a few physics-aligned features, and evaluate multiple models with grouped cross-validation by cell. A tuned Elastic Net with polynomial features achieves strong out-of-fold (OOF) performance on cells with ≥5 diagnostics.\n"
   ]
  },
  {
   "cell_type": "markdown",
   "id": "49d04cf5",
   "metadata": {},
   "source": [
    "\n",
    "## 1. Problem Definition & Success Criteria\n",
    "- **Task:** supervised **regression**; target is RUL (diagnostic steps to 80% EOL).\n",
    "- **Why:** enable scheduled maintenance before performance drops.\n",
    "- **Success:** good **generalization to unseen cells** → grouped CV by `cell_id` with RMSE/MAE/R² (OOF).\n"
   ]
  },
  {
   "cell_type": "markdown",
   "id": "524b9574",
   "metadata": {},
   "source": [
    "\n",
    "## 2. Data Provenance & Description\n",
    "- **Source:** Onori EV aging diagnostic capacity tests (`Diag_*/Capacity_test`).\n",
    "- **Shape:** 101 diagnostics across 10 cells (derived; no raw files tracked in Git).\n",
    "- **EOL:** 0.8 × initial capacity per cell; per-diagnostic capacity taken as max *Discharge Capacity (Ah)* from the Excel workbook.\n"
   ]
  },
  {
   "cell_type": "code",
   "execution_count": null,
   "id": "85b1bd09",
   "metadata": {},
   "outputs": [],
   "source": [
    "\n",
    "import pandas as pd\n",
    "\n",
    "df = pd.read_csv(\"results/rpt_features_labeled_enriched.csv\").sort_values([\"cell_id\",\"diag\"])\n",
    "rows, cells_cnt = len(df), df[\"cell_id\"].nunique()\n",
    "print(\"rows:\", rows, \"| cells:\", cells_cnt)\n",
    "df.head()\n"
   ]
  },
  {
   "cell_type": "markdown",
   "id": "717d7d3a",
   "metadata": {},
   "source": [
    "\n",
    "## 3. Cleaning & EDA (highlights)\n",
    "- **Label:** For each cell, find the first diagnostic where capacity ≤ 0.8 × initial (call it diag_EOL). RUL = diag_EOL − diag.\n",
    "- **Features:** `diag`, `capacity_ah`, `fade_frac = 1 − capacity/initial`, short-window slope `cap_slope_k3`; parsed `c_rate`/`temp_c` when available.\n",
    "- **Takeaways:** RUL is right-skewed; capacity declines roughly monotonically with diagnostic index; slopes vary by cell group.\n",
    "\n",
    "**Figures (reproduced earlier and tracked):**\n"
   ]
  },
  {
   "cell_type": "code",
   "execution_count": null,
   "id": "8273acb0",
   "metadata": {},
   "outputs": [],
   "source": [
    "\n",
    "from IPython.display import Image, display\n",
    "\n",
    "display(Image(filename=\"results/figs/rul_hist.png\", width=800))\n",
    "display(Image(filename=\"results/figs/cap_vs_diag_by_cell.png\", width=800))\n",
    "display(Image(filename=\"results/figs/fade_vs_diag.png\", width=800))\n"
   ]
  },
  {
   "cell_type": "markdown",
   "id": "c42b7568",
   "metadata": {},
   "source": [
    "\n",
    "## 4. Models & Cross-Validation\n",
    "Compared: baseline mean, **diag-only LinearRegression**, **Elastic Net**, **RandomForest**, **Histogram Gradient Boosting**, **SVR (RBF)**.  \n",
    "**Evaluation:** **GroupKFold by `cell_id`** (emulates unseen cells); report **OOF** metrics RMSE/MAE/R².  \n",
    "**Tuning:** Elastic Net + polynomial features; filtered to cells with ≥5 diagnostics for the headline OOF.\n"
   ]
  },
  {
   "cell_type": "code",
   "execution_count": null,
   "id": "1090bfe9",
   "metadata": {},
   "outputs": [],
   "source": [
    "\n",
    "import pandas as pd\n",
    "from IPython.display import display, Image\n",
    "\n",
    "lb = pd.read_csv(\"results/leaderboard.csv\").sort_values(\"rmse_mean\")\n",
    "pc = pd.read_csv(\"results/per_cell_oof_metrics_tuned.csv\")\n",
    "\n",
    "display(lb.round(3))\n",
    "\n",
    "print(\"\n",
    "Tuned Elastic Net (poly, filtered ≥5 diags) — per-cell OOF\")\n",
    "display(pc.round(3))\n",
    "\n",
    "display(Image(filename=\"results/figs/parity_plot_oof_tuned.png\", width=800))\n"
   ]
  },
  {
   "cell_type": "markdown",
   "id": "a2cdb63d",
   "metadata": {},
   "source": [
    "\n",
    "## 5. Results, Discussion & Conclusions\n",
    "- **Simple CV leaderboard:** diag-only LinearRegression is already strong; Elastic Net close; trees/SVR do not beat linear on this small, mostly monotonic dataset.\n",
    "- **Tuned (filtered, OOF):** strong parity across cells with adequate history (see table & plot).\n",
    "- **Interpretability:** standardized coefficients (reported in slides) align with physics — `diag` (−), `capacity_ah` (+), `fade_frac` (+), short-window slope (+).\n",
    "- **Limits:** only 10 cells; mostly fixed temperature; some cells have few diagnostics.\n",
    "- **Next:** add HPPC ΔR (resistance change), try quantile regression for conservative RUL, expand cells/temps, consider time-to-EOL.\n"
   ]
  }
 ],
 "metadata": {
  "kernelspec": {
   "display_name": "Python 3",
   "language": "python",
   "name": "python3"
  },
  "language_info": {
   "name": "python"
  }
 },
 "nbformat": 4,
 "nbformat_minor": 5
}
