{
 "cells": [
  {
   "cell_type": "markdown",
   "id": "e5b2eb94",
   "metadata": {},
   "source": [
    "# 01 — Cleaning & EDA (diagnostic capacity tests)\n",
    "\n",
    "**Topic/Goal**: Supervised **regression** to predict RUL (diagnostic steps remaining to 80% EOL).  \n",
    "**Data**: Onori EV capacity tests; **101 diagnostics / 10 cells**.  \n",
    "**This notebook**: loads derived CSV, re-derives features if needed, and produces EDA figures.\n",
    "\n",
    "**Rubric hooks**: Project topic/goal, data description, **cleaning & EDA** (figures + commentary)."
   ]
  },
  {
   "cell_type": "code",
   "execution_count": null,
   "id": "c923cc5a",
   "metadata": {},
   "outputs": [],
   "source": [
    "import pandas as pd, numpy as np, matplotlib.pyplot as plt, os\n",
    "plt.rcParams['figure.dpi']=120\n",
    "CSV = 'results/rpt_features_labeled_enriched.csv'\n",
    "df  = pd.read_csv(CSV).sort_values(['cell_id','diag'])\n",
    "print('rows:', len(df), '| cells:', df['cell_id'].nunique())\n",
    "df.head()"
   ]
  },
  {
   "cell_type": "markdown",
   "id": "e8dd6b20",
   "metadata": {},
   "source": [
    "### EDA — RUL distribution"
   ]
  },
  {
   "cell_type": "code",
   "execution_count": null,
   "id": "6de52ae5",
   "metadata": {},
   "outputs": [],
   "source": [
    "OUT='results/figs'; os.makedirs(OUT, exist_ok=True)\n",
    "ax = df['RUL'].hist(bins=20); ax.set_title('RUL (diagnostic steps remaining)')\n",
    "ax.set_xlabel('RUL'); ax.set_ylabel('count'); plt.tight_layout()\n",
    "plt.savefig(f'{OUT}/rul_hist.png'); plt.show()"
   ]
  },
  {
   "cell_type": "markdown",
   "id": "5f2fe15a",
   "metadata": {},
   "source": [
    "### EDA — Capacity & Fade vs Diagnostic Index (by cell)"
   ]
  },
  {
   "cell_type": "code",
   "execution_count": null,
   "id": "63c5b4c4",
   "metadata": {},
   "outputs": [],
   "source": [
    "for label, y, fname in [('capacity_ah','Capacity vs diagnostic index (by cell)','cap_vs_diag_by_cell.png'),\n",
    "                          ('fade_frac','Fade fraction vs diagnostic index (by cell)','fade_vs_diag.png')]:\n",
    "    for cid in df['cell_id'].unique():\n",
    "        g = df[df['cell_id']==cid].sort_values('diag')\n",
    "        plt.plot(g['diag'], g[label], marker='o', alpha=0.8, label=cid)\n",
    "    plt.title(y); plt.xlabel('diagnostic index'); plt.ylabel(label); plt.legend(ncol=2, fontsize=8)\n",
    "    plt.tight_layout(); plt.savefig(f'{OUT}/{fname}'); plt.show()\n",
    "print('Saved figures to', OUT)"
   ]
  }
 ],
 "metadata": {
  "kernelspec": {
   "display_name": "Python 3",
   "language": "python",
   "name": "python3"
  },
  "language_info": {
   "name": "python"
  }
 },
 "nbformat": 4,
 "nbformat_minor": 5
}
